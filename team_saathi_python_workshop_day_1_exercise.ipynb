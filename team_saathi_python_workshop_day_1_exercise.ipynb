{
 "cells": [
  {
   "cell_type": "markdown",
   "metadata": {
    "id": "DqIYJlCbX4qM"
   },
   "source": [
    "### Problem 1\n",
    "Write a Python method called fibonacci that takes an integer number N as argument and returns the Fibonacci sequence of length N.\n",
    "<br><br>\n",
    "**Note:** A Fibonacci sequence is a sequence of numbers where each number is the sum of the two previous ones. For example, the Fibonacci sequence of length 5 is: 0, 1, 1, 2, 3 (or 1, 1, 2, 3, 5)\n"
   ]
  },
  {
   "cell_type": "code",
   "execution_count": 25,
   "metadata": {},
   "outputs": [
    {
     "name": "stdout",
     "output_type": "stream",
     "text": [
      "0 1 1 2 3 5 8 "
     ]
    }
   ],
   "source": [
    "def fib(n):\n",
    "    count, n1, n2 = 0, 0, 1\n",
    "    if n <=2:\n",
    "        print(\"Please enter a valid length.\")\n",
    "    else:\n",
    "        while count < n:\n",
    "            print(n1, end=' ')\n",
    "            nextTerm = n1 + n2\n",
    "            n1 = n2\n",
    "            n2 = nextTerm\n",
    "            count += 1\n",
    "            \n",
    "fib(7)"
   ]
  },
  {
   "cell_type": "markdown",
   "metadata": {
    "id": "jjSoWN3cYN3W"
   },
   "source": [
    "### Problem 2\n",
    "Create a function which takes a number of levels (N) and prints a pyramid that looks like this for N = 4:<br>\n",
    "&nbsp;&nbsp;&nbsp;&nbsp;&nbsp;&nbsp;&nbsp;&nbsp;&nbsp;**#**<br>\n",
    "&nbsp;&nbsp;&nbsp;&nbsp;&nbsp;&nbsp;**###**<br>\n",
    "&nbsp;&nbsp;&nbsp;**#####**<br>\n",
    "**#######**<br>\n"
   ]
  },
  {
   "cell_type": "code",
   "execution_count": 51,
   "metadata": {
    "id": "svom81a-Yb-W"
   },
   "outputs": [
    {
     "name": "stdout",
     "output_type": "stream",
     "text": [
      "#\n",
      "###\n",
      "#####\n",
      "#######\n"
     ]
    }
   ],
   "source": [
    "def sequence(n):    \n",
    "    for i in range(1, n+5, 2):\n",
    "        for j in range(i):\n",
    "            print(\"#\", end=\"\")\n",
    "        print()\n",
    "        \n",
    "sequence(4)"
   ]
  },
  {
   "cell_type": "markdown",
   "metadata": {
    "id": "lu07agzZYeov"
   },
   "source": [
    "### Problem 3\n",
    "\n",
    "Your task is to program a small \"Guess the number\" game. A number between 1 and 100 should be randomly selected and the player should have 5 tries to guess that number correctly. Each time the player guesses, a hint should be given (higher/lower). **At the end, the correct guessed or not guessed number as well as the needed tries to get there should be printed out in the console**.\n",
    "\n",
    "**Note:** Handle error/exceptions from user input. For example, if a user enters a string instead of a number. The no. of tries should not decrease when such error occurs.\n",
    "\n",
    "**Hint**: use indefinite loop and exit the loop when required condition(s) is met\n",
    "\n",
    "Example Run: <br>\n",
    "<code>\n",
    "I'm thinking of a number between 1 and 100. <br>\n",
    "Try to guess it in as few attempts as possible.<br>\n",
    "<br>\n",
    "Enter your guess:5 <br>\n",
    "Wrong Guess. Hint: Go Higher!!! No of tries Left=4 <br>\n",
    "Enter your guess:10 <br>\n",
    "Wrong Guess. Hint: Go Higher!!! No of tries Left=3 <br>\n",
    "Enter your guess:50 <br>\n",
    "Wrong Guess. Hint: Go Higher!!! No of tries Left=2 <br>\n",
    "Enter your guess:70 <br>\n",
    "Wrong Guess. Hint: Go Lower!!! No of tries Left=1 <br>\n",
    "Enter your guess:6 <br>\n",
    "Wrong Guess. Hint: Go Higher!!! No of tries Left=0 <br>\n",
    "<br>\n",
    "Number I was thinking about is 60 <br>\n",
    "You did not guess my number correctly. <br>\n",
    "No of tries: 5 <br>\n",
    "</code>"
   ]
  },
  {
   "cell_type": "code",
   "execution_count": 23,
   "metadata": {
    "id": "FYhubfvNYh3r"
   },
   "outputs": [
    {
     "name": "stdout",
     "output_type": "stream",
     "text": [
      "I am thinking of a number between 1 and 100. \n",
      "Try to guess it in as few attempts as possible.\n",
      "Enter your guess: l;\n",
      "Please enter a number.\n",
      "Enter your guess: \n",
      "Please enter a number.\n",
      "Enter your guess: 78\n",
      "Wrong guess. Hint: Go Lower!! No of tries Left= 4\n",
      "Enter your guess: jk\n",
      "Please enter a number.\n",
      "Enter your guess: 78\n",
      "Wrong guess. Hint: Go Lower!! No of tries Left= 3\n",
      "Enter your guess: 78\n",
      "Wrong guess. Hint: Go Lower!! No of tries Left= 2\n",
      "Enter your guess: 78\n",
      "Wrong guess. Hint: Go Lower!! No of tries Left= 1\n",
      "Enter your guess: 78\n",
      "Wrong guess. Hint: Go Lower!! No of tries Left= 0\n",
      "\n",
      "Number I was thinking about is: 7 \n",
      "You didn't guess my number correctly. \n",
      "No. of tries: 5\n"
     ]
    }
   ],
   "source": [
    "import random\n",
    "\n",
    "print(\"I am thinking of a number between 1 and 100. \\nTry to guess it in as few attempts as possible.\")\n",
    "\n",
    "n = random.randint(1,100)\n",
    "\n",
    "i = 0\n",
    "while i < 5:\n",
    "    try:\n",
    "        guess = int(input(\"Enter your guess: \"))\n",
    "        if guess == n:\n",
    "            print(\"Correct\")\n",
    "        elif guess < n:\n",
    "            print(\"Wrong guess. Hint: Go Higher!! No of tries Left=\", 4-i)\n",
    "        else:\n",
    "            print(\"Wrong guess. Hint: Go Lower!! No of tries Left=\", 4-i)\n",
    "    \n",
    "        if i == 4:\n",
    "            print(f\"\\nNumber I was thinking about is: {n} \\nYou didn't guess my number correctly. \\nNo. of tries: {i+1}\")\n",
    "        i += 1\n",
    "    \n",
    "    except ValueError:\n",
    "        print(\"Please enter a number.\")\n"
   ]
  },
  {
   "cell_type": "markdown",
   "metadata": {
    "id": "WoStwHjfYkZe"
   },
   "source": [
    "### Problem 4\n",
    "Write a Python function to count the frequency of all the values in a given list of dictionary. \n",
    "\n",
    "**Example:**<br>\n",
    "For a list of dictionaries:<br>\n",
    "[{0: 10, 1: 20, 2: 20}, {'a': 20, 'b': 30}, {1.0: 10, 2.0: 20}]<br>\n",
    "The function should return a dictionary with frequency count for values:<br>\n",
    "{10: 2, 20: 4, 30: 1}"
   ]
  },
  {
   "cell_type": "code",
   "execution_count": 89,
   "metadata": {
    "id": "evqvDhC_YrXL"
   },
   "outputs": [
    {
     "data": {
      "text/plain": [
       "{10: 2, 20: 4, 30: 1}"
      ]
     },
     "execution_count": 89,
     "metadata": {},
     "output_type": "execute_result"
    }
   ],
   "source": [
    "list_dict = [{0: 10, 1: 20, 2: 20}, {'a': 20, 'b': 30}, {1.0: 10, 2.0: 20}]\n",
    "new_dict = {}\n",
    "a = []\n",
    "\n",
    "def count_values(list_dict):\n",
    "    for value in list_dict:\n",
    "        for v in value.values():\n",
    "            a.append(v)\n",
    "\n",
    "    for i, item in enumerate(a):\n",
    "        new_dict[item] = a.count(item)\n",
    "\n",
    "    return new_dict\n",
    "\n",
    "count_values(list_dict)"
   ]
  },
  {
   "cell_type": "code",
   "execution_count": null,
   "metadata": {},
   "outputs": [],
   "source": []
  }
 ],
 "metadata": {
  "colab": {
   "collapsed_sections": [],
   "name": "team-saathi-python-workshop-day-1-exercise",
   "provenance": []
  },
  "kernelspec": {
   "display_name": "Python 3",
   "language": "python",
   "name": "python3"
  },
  "language_info": {
   "codemirror_mode": {
    "name": "ipython",
    "version": 3
   },
   "file_extension": ".py",
   "mimetype": "text/x-python",
   "name": "python",
   "nbconvert_exporter": "python",
   "pygments_lexer": "ipython3",
   "version": "3.9.2"
  }
 },
 "nbformat": 4,
 "nbformat_minor": 1
}
